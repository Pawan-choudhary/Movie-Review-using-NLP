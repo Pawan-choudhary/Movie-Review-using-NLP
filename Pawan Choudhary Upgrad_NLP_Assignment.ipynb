{
 "cells": [
  {
   "cell_type": "code",
   "execution_count": 1,
   "metadata": {},
   "outputs": [],
   "source": [
    "import pandas as pd\n",
    "import numpy as np\n",
    "import matplotlib.pyplot as plt\n",
    "from nltk.corpus import stopwords\n",
    "from nltk.stem import PorterStemmer\n",
    "from nltk.corpus import words\n",
    "from nltk.tokenize import word_tokenize\n",
    "from nltk import FreqDist\n",
    "from nltk.metrics.distance  import edit_distance\n",
    "from sklearn.feature_extraction.text import TfidfVectorizer \n",
    "import seaborn as sns\n",
    "import re\n",
    "from sklearn.model_selection import train_test_split as tts\n",
    "from wordcloud import WordCloud\n",
    "from sklearn.naive_bayes import MultinomialNB \n",
    "from sklearn.metrics import classification_report,confusion_matrix,accuracy_score"
   ]
  },
  {
   "cell_type": "markdown",
   "metadata": {},
   "source": [
    "### Importing Dataset"
   ]
  },
  {
   "cell_type": "code",
   "execution_count": 2,
   "metadata": {},
   "outputs": [
    {
     "data": {
      "text/html": [
       "<div>\n",
       "<style scoped>\n",
       "    .dataframe tbody tr th:only-of-type {\n",
       "        vertical-align: middle;\n",
       "    }\n",
       "\n",
       "    .dataframe tbody tr th {\n",
       "        vertical-align: top;\n",
       "    }\n",
       "\n",
       "    .dataframe thead th {\n",
       "        text-align: right;\n",
       "    }\n",
       "</style>\n",
       "<table border=\"1\" class=\"dataframe\">\n",
       "  <thead>\n",
       "    <tr style=\"text-align: right;\">\n",
       "      <th></th>\n",
       "      <th>Review</th>\n",
       "      <th>Sentiment</th>\n",
       "    </tr>\n",
       "  </thead>\n",
       "  <tbody>\n",
       "    <tr>\n",
       "      <th>0</th>\n",
       "      <td>films adapted from comic books have had plenty...</td>\n",
       "      <td>pos</td>\n",
       "    </tr>\n",
       "    <tr>\n",
       "      <th>1</th>\n",
       "      <td>every now and then a movie comes along from a ...</td>\n",
       "      <td>pos</td>\n",
       "    </tr>\n",
       "    <tr>\n",
       "      <th>2</th>\n",
       "      <td>you ' ve got mail works alot better than it de...</td>\n",
       "      <td>pos</td>\n",
       "    </tr>\n",
       "    <tr>\n",
       "      <th>3</th>\n",
       "      <td>\" jaws \" is a rare film that grabs your attent...</td>\n",
       "      <td>pos</td>\n",
       "    </tr>\n",
       "    <tr>\n",
       "      <th>4</th>\n",
       "      <td>moviemaking is a lot like being the general ma...</td>\n",
       "      <td>pos</td>\n",
       "    </tr>\n",
       "  </tbody>\n",
       "</table>\n",
       "</div>"
      ],
      "text/plain": [
       "                                              Review Sentiment\n",
       "0  films adapted from comic books have had plenty...       pos\n",
       "1  every now and then a movie comes along from a ...       pos\n",
       "2  you ' ve got mail works alot better than it de...       pos\n",
       "3  \" jaws \" is a rare film that grabs your attent...       pos\n",
       "4  moviemaking is a lot like being the general ma...       pos"
      ]
     },
     "execution_count": 2,
     "metadata": {},
     "output_type": "execute_result"
    }
   ],
   "source": [
    "data = pd.read_csv(r\"Movie_Review_Dataset.csv\")\n",
    "data.head()"
   ]
  },
  {
   "cell_type": "code",
   "execution_count": 3,
   "metadata": {},
   "outputs": [
    {
     "name": "stdout",
     "output_type": "stream",
     "text": [
      "<class 'pandas.core.frame.DataFrame'>\n",
      "RangeIndex: 2000 entries, 0 to 1999\n",
      "Data columns (total 2 columns):\n",
      " #   Column     Non-Null Count  Dtype \n",
      "---  ------     --------------  ----- \n",
      " 0   Review     2000 non-null   object\n",
      " 1   Sentiment  2000 non-null   object\n",
      "dtypes: object(2)\n",
      "memory usage: 31.4+ KB\n"
     ]
    }
   ],
   "source": [
    "data.info()"
   ]
  },
  {
   "cell_type": "markdown",
   "metadata": {},
   "source": [
    "From above it can be deduced that there are no null values"
   ]
  },
  {
   "cell_type": "code",
   "execution_count": 4,
   "metadata": {
    "scrolled": true
   },
   "outputs": [
    {
     "data": {
      "text/html": [
       "<div>\n",
       "<style scoped>\n",
       "    .dataframe tbody tr th:only-of-type {\n",
       "        vertical-align: middle;\n",
       "    }\n",
       "\n",
       "    .dataframe tbody tr th {\n",
       "        vertical-align: top;\n",
       "    }\n",
       "\n",
       "    .dataframe thead th {\n",
       "        text-align: right;\n",
       "    }\n",
       "</style>\n",
       "<table border=\"1\" class=\"dataframe\">\n",
       "  <thead>\n",
       "    <tr style=\"text-align: right;\">\n",
       "      <th></th>\n",
       "      <th>Review</th>\n",
       "      <th>Sentiment</th>\n",
       "    </tr>\n",
       "  </thead>\n",
       "  <tbody>\n",
       "    <tr>\n",
       "      <th>count</th>\n",
       "      <td>2000</td>\n",
       "      <td>2000</td>\n",
       "    </tr>\n",
       "    <tr>\n",
       "      <th>unique</th>\n",
       "      <td>2000</td>\n",
       "      <td>2</td>\n",
       "    </tr>\n",
       "    <tr>\n",
       "      <th>top</th>\n",
       "      <td>shakespeare in love is quite possibly the most...</td>\n",
       "      <td>pos</td>\n",
       "    </tr>\n",
       "    <tr>\n",
       "      <th>freq</th>\n",
       "      <td>1</td>\n",
       "      <td>1000</td>\n",
       "    </tr>\n",
       "  </tbody>\n",
       "</table>\n",
       "</div>"
      ],
      "text/plain": [
       "                                                   Review Sentiment\n",
       "count                                                2000      2000\n",
       "unique                                               2000         2\n",
       "top     shakespeare in love is quite possibly the most...       pos\n",
       "freq                                                    1      1000"
      ]
     },
     "execution_count": 4,
     "metadata": {},
     "output_type": "execute_result"
    }
   ],
   "source": [
    "data.describe()"
   ]
  },
  {
   "cell_type": "code",
   "execution_count": 5,
   "metadata": {},
   "outputs": [
    {
     "data": {
      "text/html": [
       "<div>\n",
       "<style scoped>\n",
       "    .dataframe tbody tr th:only-of-type {\n",
       "        vertical-align: middle;\n",
       "    }\n",
       "\n",
       "    .dataframe tbody tr th {\n",
       "        vertical-align: top;\n",
       "    }\n",
       "\n",
       "    .dataframe thead th {\n",
       "        text-align: right;\n",
       "    }\n",
       "</style>\n",
       "<table border=\"1\" class=\"dataframe\">\n",
       "  <thead>\n",
       "    <tr style=\"text-align: right;\">\n",
       "      <th></th>\n",
       "      <th>Review</th>\n",
       "      <th>Sentiment</th>\n",
       "    </tr>\n",
       "  </thead>\n",
       "  <tbody>\n",
       "    <tr>\n",
       "      <th>0</th>\n",
       "      <td>films adapted from comic books have had plenty...</td>\n",
       "      <td>pos</td>\n",
       "    </tr>\n",
       "    <tr>\n",
       "      <th>1</th>\n",
       "      <td>every now and then a movie comes along from a ...</td>\n",
       "      <td>pos</td>\n",
       "    </tr>\n",
       "    <tr>\n",
       "      <th>2</th>\n",
       "      <td>you ' ve got mail works alot better than it de...</td>\n",
       "      <td>pos</td>\n",
       "    </tr>\n",
       "    <tr>\n",
       "      <th>3</th>\n",
       "      <td>\" jaws \" is a rare film that grabs your attent...</td>\n",
       "      <td>pos</td>\n",
       "    </tr>\n",
       "    <tr>\n",
       "      <th>4</th>\n",
       "      <td>moviemaking is a lot like being the general ma...</td>\n",
       "      <td>pos</td>\n",
       "    </tr>\n",
       "  </tbody>\n",
       "</table>\n",
       "</div>"
      ],
      "text/plain": [
       "                                              Review Sentiment\n",
       "0  films adapted from comic books have had plenty...       pos\n",
       "1  every now and then a movie comes along from a ...       pos\n",
       "2  you ' ve got mail works alot better than it de...       pos\n",
       "3  \" jaws \" is a rare film that grabs your attent...       pos\n",
       "4  moviemaking is a lot like being the general ma...       pos"
      ]
     },
     "execution_count": 5,
     "metadata": {},
     "output_type": "execute_result"
    }
   ],
   "source": [
    "data.head()"
   ]
  },
  {
   "cell_type": "markdown",
   "metadata": {},
   "source": [
    "## Pre-Processing Data"
   ]
  },
  {
   "cell_type": "code",
   "execution_count": 6,
   "metadata": {},
   "outputs": [],
   "source": [
    "#creating function to remove noise from data\n",
    "def remove_noise(text):\n",
    "    text = text.lower()\n",
    "    text = re.sub(\"<[^>]*>\",\"\",text)\n",
    "    text = re.sub(\"[+-=/!@#$%\\^&_\\.?*,:;'\\\"\\]\\\\\\[{}()]\",\"\",text)\n",
    "    return text\n",
    "\n",
    "data.Review = data.Review.apply(remove_noise)"
   ]
  },
  {
   "cell_type": "code",
   "execution_count": 7,
   "metadata": {},
   "outputs": [],
   "source": [
    "#creating function to stem words \n",
    "def Stem(text):\n",
    "    text = text.lower()\n",
    "    PS = PorterStemmer()\n",
    "    text = \" \".join([PS.stem(word) for word in text.split()])\n",
    "    return text\n",
    "\n",
    "data.Review = data.Review.apply(Stem)"
   ]
  },
  {
   "cell_type": "code",
   "execution_count": 8,
   "metadata": {},
   "outputs": [],
   "source": [
    "#creating function to remove stop words\n",
    "def remove_stop_words(text):\n",
    "    stop_words_list = stopwords.words('english')\n",
    "    tokens = word_tokenize(text)\n",
    "    filtered_word = [token for token in tokens if token not in stop_words_list or len(token)>2]\n",
    "    return \" \".join(filtered_word)\n",
    "\n",
    "data.Review = data.Review.apply(remove_stop_words)\n"
   ]
  },
  {
   "cell_type": "markdown",
   "metadata": {},
   "source": [
    "## Data Visualization"
   ]
  },
  {
   "cell_type": "code",
   "execution_count": 9,
   "metadata": {},
   "outputs": [
    {
     "data": {
      "image/png": "[encoded data removed]",
      "text/plain": [
       "<Figure size 432x288 with 1 Axes>"
      ]
     },
     "metadata": {
      "needs_background": "light"
     },
     "output_type": "display_data"
    }
   ],
   "source": [
    "#let's make a count plot of positive and negative sentiment\n",
    "\n",
    "sns.countplot(x = 'Sentiment', data = data)\n",
    "plt.title(\"Sentiments Frequency Distribution\")\n",
    "plt.show()"
   ]
  },
  {
   "cell_type": "markdown",
   "metadata": {},
   "source": [
    "From above plot it can be seen that there is equal frequency of both labeles."
   ]
  },
  {
   "cell_type": "code",
   "execution_count": 10,
   "metadata": {},
   "outputs": [],
   "source": [
    "#defining a function to plot word frequency\n",
    "def plot_word_frequency(words, title, top_n=10):\n",
    "    word_freq = FreqDist(words)\n",
    "    labels = [element[0] for element in word_freq.most_common(top_n)]\n",
    "    counts = [element[1] for element in word_freq.most_common(top_n)]\n",
    "    plt.title(title)\n",
    "    plot = sns.barplot(labels, counts)\n",
    "    return plot"
   ]
  },
  {
   "cell_type": "code",
   "execution_count": 11,
   "metadata": {
    "scrolled": false
   },
   "outputs": [
    {
     "data": {
      "text/plain": [
       "<matplotlib.axes._subplots.AxesSubplot at 0x2725cd6b6c8>"
      ]
     },
     "execution_count": 11,
     "metadata": {},
     "output_type": "execute_result"
    },
    {
     "data": {
      "image/png": "[encoded data removed]",
      "text/plain": [
       "<Figure size 1440x504 with 2 Axes>"
      ]
     },
     "metadata": {
      "needs_background": "light"
     },
     "output_type": "display_data"
    }
   ],
   "source": [
    "# creating a list of positive and negative words \n",
    "pos_words = [word for text in data.Review[data.Sentiment == \"pos\"] for word in word_tokenize(text)]\n",
    "neg_words = [word for text in data.Review[data.Sentiment == \"neg\"] for word in word_tokenize(text)]\n",
    "\n",
    "#ploting frequency of top 10 words in positive and negative reviews\n",
    "plt.figure(figsize = (20,7))\n",
    "plt.subplot(1,2,1)\n",
    "plot_word_frequency(pos_words, \"Word Frequency of Positive Reviews\")\n",
    "plt.subplot(1,2,2)\n",
    "plot_word_frequency(neg_words, \"Word Frequency of Negative Reviews\")\n"
   ]
  },
  {
   "cell_type": "markdown",
   "metadata": {},
   "source": [
    "It can be seen that both negative and positive reviews have same frequent words <br>\n",
    "nothing much can be deduced from above plot"
   ]
  },
  {
   "cell_type": "code",
   "execution_count": 12,
   "metadata": {},
   "outputs": [
    {
     "data": {
      "text/plain": [
       "<matplotlib.axes._subplots.AxesSubplot at 0x2726150c608>"
      ]
     },
     "execution_count": 12,
     "metadata": {},
     "output_type": "execute_result"
    },
    {
     "data": {
      "image/png": "[encoded data removed]",
      "text/plain": [
       "<Figure size 432x288 with 1 Axes>"
      ]
     },
     "metadata": {
      "needs_background": "light"
     },
     "output_type": "display_data"
    }
   ],
   "source": [
    "#ploting box plot of of length of review\n",
    "data['Length'] = data.Review.apply(lambda x: len(x))\n",
    "sns.boxplot(data.Sentiment, data.Length)"
   ]
  },
  {
   "cell_type": "markdown",
   "metadata": {},
   "source": [
    "From above plot it can be seen that average review length is slightly higher for positive than of negative"
   ]
  },
  {
   "cell_type": "markdown",
   "metadata": {},
   "source": [
    "## TF-IDF Vectorization"
   ]
  },
  {
   "cell_type": "code",
   "execution_count": 13,
   "metadata": {
    "scrolled": true
   },
   "outputs": [
    {
     "name": "stdout",
     "output_type": "stream",
     "text": [
      "  (0, 4455)\t0.03798778659158295\n",
      "  (0, 6314)\t0.03276339323180603\n",
      "  (0, 12375)\t0.03549360734182908\n",
      "  (0, 19782)\t0.030050189223688493\n",
      "  (0, 9063)\t0.03787801342218802\n",
      "  (0, 10388)\t0.01915599885681874\n",
      "  (0, 1395)\t0.017611325608557295\n",
      "  (0, 9536)\t0.023819014152493344\n",
      "  (0, 168)\t0.01901898904857198\n",
      "  (0, 11256)\t0.04709396916807698\n",
      "  (0, 1183)\t0.022650250282744845\n",
      "  (0, 10685)\t0.028224525763293134\n",
      "  (0, 14639)\t0.03327373532033825\n",
      "  (0, 9972)\t0.028542602547496507\n",
      "  (0, 15655)\t0.020901499816131066\n",
      "  (0, 19885)\t0.0157076562768033\n",
      "  (0, 4811)\t0.04679701877496121\n",
      "  (0, 2008)\t0.01916981453545854\n",
      "  (0, 18749)\t0.018138553470910587\n",
      "  (0, 21730)\t0.02518811690217275\n",
      "  (0, 9195)\t0.018426871299997743\n",
      "  (0, 12951)\t0.05906402214471621\n",
      "  (0, 5093)\t0.05704319496179094\n",
      "  (0, 18552)\t0.049114796351002264\n",
      "  (0, 19586)\t0.030521971704389778\n",
      "  :\t:\n",
      "  (1999, 12885)\t0.015977127052290017\n",
      "  (1999, 14076)\t0.02681856866849587\n",
      "  (1999, 25040)\t0.04229671678345432\n",
      "  (1999, 19265)\t0.017254094179722033\n",
      "  (1999, 19720)\t0.025462644693556424\n",
      "  (1999, 24907)\t0.06484170574204765\n",
      "  (1999, 12678)\t0.02742377250832489\n",
      "  (1999, 15059)\t0.03521924222576896\n",
      "  (1999, 24753)\t0.023667842730599246\n",
      "  (1999, 24743)\t0.02042940175825847\n",
      "  (1999, 675)\t0.1081971815669849\n",
      "  (1999, 4764)\t0.02324256856092035\n",
      "  (1999, 8077)\t0.03746225948195692\n",
      "  (1999, 12779)\t0.02245371492358791\n",
      "  (1999, 1771)\t0.028974852340077895\n",
      "  (1999, 15053)\t0.016645399719373465\n",
      "  (1999, 22345)\t0.03484565814741435\n",
      "  (1999, 2961)\t0.03782001745261588\n",
      "  (1999, 22308)\t0.3064055165978122\n",
      "  (1999, 59)\t0.011834329698119029\n",
      "  (1999, 22367)\t0.046509013405433765\n",
      "  (1999, 9764)\t0.04222253564183246\n",
      "  (1999, 4187)\t0.05190241062043602\n",
      "  (1999, 8331)\t0.010459922479397534\n",
      "  (1999, 7749)\t0.0497297697891517\n"
     ]
    }
   ],
   "source": [
    "tf_vect=TfidfVectorizer()\n",
    "tf_vect_reviews=tf_vect.fit_transform(data.Review)\n",
    "print(tf_vect_reviews)"
   ]
  },
  {
   "cell_type": "code",
   "execution_count": 14,
   "metadata": {},
   "outputs": [
    {
     "data": {
      "text/html": [
       "<div>\n",
       "<style scoped>\n",
       "    .dataframe tbody tr th:only-of-type {\n",
       "        vertical-align: middle;\n",
       "    }\n",
       "\n",
       "    .dataframe tbody tr th {\n",
       "        vertical-align: top;\n",
       "    }\n",
       "\n",
       "    .dataframe thead th {\n",
       "        text-align: right;\n",
       "    }\n",
       "</style>\n",
       "<table border=\"1\" class=\"dataframe\">\n",
       "  <thead>\n",
       "    <tr style=\"text-align: right;\">\n",
       "      <th></th>\n",
       "      <th>aa</th>\n",
       "      <th>aaa</th>\n",
       "      <th>aaaaaaaaah</th>\n",
       "      <th>aaaaaaaahhhh</th>\n",
       "      <th>aaaaaah</th>\n",
       "      <th>aaaahhh</th>\n",
       "      <th>aah</th>\n",
       "      <th>aaliyah</th>\n",
       "      <th>aalyah</th>\n",
       "      <th>aamir</th>\n",
       "      <th>...</th>\n",
       "      <th>zuko</th>\n",
       "      <th>zukovski</th>\n",
       "      <th>zulu</th>\n",
       "      <th>zundel</th>\n",
       "      <th>zurg</th>\n",
       "      <th>zweibel</th>\n",
       "      <th>zwick</th>\n",
       "      <th>zwigoff</th>\n",
       "      <th>zyci</th>\n",
       "      <th>zzzzzzz</th>\n",
       "    </tr>\n",
       "  </thead>\n",
       "  <tbody>\n",
       "    <tr>\n",
       "      <th>0</th>\n",
       "      <td>0.0</td>\n",
       "      <td>0.0</td>\n",
       "      <td>0.0</td>\n",
       "      <td>0.0</td>\n",
       "      <td>0.0</td>\n",
       "      <td>0.0</td>\n",
       "      <td>0.0</td>\n",
       "      <td>0.0</td>\n",
       "      <td>0.0</td>\n",
       "      <td>0.0</td>\n",
       "      <td>...</td>\n",
       "      <td>0.0</td>\n",
       "      <td>0.0</td>\n",
       "      <td>0.0</td>\n",
       "      <td>0.0</td>\n",
       "      <td>0.0</td>\n",
       "      <td>0.0</td>\n",
       "      <td>0.0</td>\n",
       "      <td>0.0</td>\n",
       "      <td>0.0</td>\n",
       "      <td>0.0</td>\n",
       "    </tr>\n",
       "    <tr>\n",
       "      <th>1</th>\n",
       "      <td>0.0</td>\n",
       "      <td>0.0</td>\n",
       "      <td>0.0</td>\n",
       "      <td>0.0</td>\n",
       "      <td>0.0</td>\n",
       "      <td>0.0</td>\n",
       "      <td>0.0</td>\n",
       "      <td>0.0</td>\n",
       "      <td>0.0</td>\n",
       "      <td>0.0</td>\n",
       "      <td>...</td>\n",
       "      <td>0.0</td>\n",
       "      <td>0.0</td>\n",
       "      <td>0.0</td>\n",
       "      <td>0.0</td>\n",
       "      <td>0.0</td>\n",
       "      <td>0.0</td>\n",
       "      <td>0.0</td>\n",
       "      <td>0.0</td>\n",
       "      <td>0.0</td>\n",
       "      <td>0.0</td>\n",
       "    </tr>\n",
       "    <tr>\n",
       "      <th>2</th>\n",
       "      <td>0.0</td>\n",
       "      <td>0.0</td>\n",
       "      <td>0.0</td>\n",
       "      <td>0.0</td>\n",
       "      <td>0.0</td>\n",
       "      <td>0.0</td>\n",
       "      <td>0.0</td>\n",
       "      <td>0.0</td>\n",
       "      <td>0.0</td>\n",
       "      <td>0.0</td>\n",
       "      <td>...</td>\n",
       "      <td>0.0</td>\n",
       "      <td>0.0</td>\n",
       "      <td>0.0</td>\n",
       "      <td>0.0</td>\n",
       "      <td>0.0</td>\n",
       "      <td>0.0</td>\n",
       "      <td>0.0</td>\n",
       "      <td>0.0</td>\n",
       "      <td>0.0</td>\n",
       "      <td>0.0</td>\n",
       "    </tr>\n",
       "    <tr>\n",
       "      <th>3</th>\n",
       "      <td>0.0</td>\n",
       "      <td>0.0</td>\n",
       "      <td>0.0</td>\n",
       "      <td>0.0</td>\n",
       "      <td>0.0</td>\n",
       "      <td>0.0</td>\n",
       "      <td>0.0</td>\n",
       "      <td>0.0</td>\n",
       "      <td>0.0</td>\n",
       "      <td>0.0</td>\n",
       "      <td>...</td>\n",
       "      <td>0.0</td>\n",
       "      <td>0.0</td>\n",
       "      <td>0.0</td>\n",
       "      <td>0.0</td>\n",
       "      <td>0.0</td>\n",
       "      <td>0.0</td>\n",
       "      <td>0.0</td>\n",
       "      <td>0.0</td>\n",
       "      <td>0.0</td>\n",
       "      <td>0.0</td>\n",
       "    </tr>\n",
       "    <tr>\n",
       "      <th>4</th>\n",
       "      <td>0.0</td>\n",
       "      <td>0.0</td>\n",
       "      <td>0.0</td>\n",
       "      <td>0.0</td>\n",
       "      <td>0.0</td>\n",
       "      <td>0.0</td>\n",
       "      <td>0.0</td>\n",
       "      <td>0.0</td>\n",
       "      <td>0.0</td>\n",
       "      <td>0.0</td>\n",
       "      <td>...</td>\n",
       "      <td>0.0</td>\n",
       "      <td>0.0</td>\n",
       "      <td>0.0</td>\n",
       "      <td>0.0</td>\n",
       "      <td>0.0</td>\n",
       "      <td>0.0</td>\n",
       "      <td>0.0</td>\n",
       "      <td>0.0</td>\n",
       "      <td>0.0</td>\n",
       "      <td>0.0</td>\n",
       "    </tr>\n",
       "  </tbody>\n",
       "</table>\n",
       "<p>5 rows × 25393 columns</p>\n",
       "</div>"
      ],
      "text/plain": [
       "    aa  aaa  aaaaaaaaah  aaaaaaaahhhh  aaaaaah  aaaahhh  aah  aaliyah  aalyah  \\\n",
       "0  0.0  0.0         0.0           0.0      0.0      0.0  0.0      0.0     0.0   \n",
       "1  0.0  0.0         0.0           0.0      0.0      0.0  0.0      0.0     0.0   \n",
       "2  0.0  0.0         0.0           0.0      0.0      0.0  0.0      0.0     0.0   \n",
       "3  0.0  0.0         0.0           0.0      0.0      0.0  0.0      0.0     0.0   \n",
       "4  0.0  0.0         0.0           0.0      0.0      0.0  0.0      0.0     0.0   \n",
       "\n",
       "   aamir  ...  zuko  zukovski  zulu  zundel  zurg  zweibel  zwick  zwigoff  \\\n",
       "0    0.0  ...   0.0       0.0   0.0     0.0   0.0      0.0    0.0      0.0   \n",
       "1    0.0  ...   0.0       0.0   0.0     0.0   0.0      0.0    0.0      0.0   \n",
       "2    0.0  ...   0.0       0.0   0.0     0.0   0.0      0.0    0.0      0.0   \n",
       "3    0.0  ...   0.0       0.0   0.0     0.0   0.0      0.0    0.0      0.0   \n",
       "4    0.0  ...   0.0       0.0   0.0     0.0   0.0      0.0    0.0      0.0   \n",
       "\n",
       "   zyci  zzzzzzz  \n",
       "0   0.0      0.0  \n",
       "1   0.0      0.0  \n",
       "2   0.0      0.0  \n",
       "3   0.0      0.0  \n",
       "4   0.0      0.0  \n",
       "\n",
       "[5 rows x 25393 columns]"
      ]
     },
     "execution_count": 14,
     "metadata": {},
     "output_type": "execute_result"
    }
   ],
   "source": [
    "#creating a dataframe of tf-idf model\n",
    "pd.DataFrame(tf_vect_reviews.toarray(), columns = tf_vect.get_feature_names()).head()"
   ]
  },
  {
   "cell_type": "code",
   "execution_count": 15,
   "metadata": {},
   "outputs": [],
   "source": [
    "#spliting dataset \n",
    "train_X,test_X,train_y,test_y = tts(tf_vect_reviews,data.Sentiment, random_state = 0)"
   ]
  },
  {
   "cell_type": "markdown",
   "metadata": {},
   "source": [
    "## Model Creation and Performance"
   ]
  },
  {
   "cell_type": "code",
   "execution_count": 17,
   "metadata": {},
   "outputs": [
    {
     "name": "stdout",
     "output_type": "stream",
     "text": [
      "Model accuracy : \n",
      "0.812\n",
      "MutinomialNB model: \n",
      "               precision    recall  f1-score   support\n",
      "\n",
      "         neg       0.77      0.87      0.82       246\n",
      "         pos       0.86      0.75      0.80       254\n",
      "\n",
      "    accuracy                           0.81       500\n",
      "   macro avg       0.82      0.81      0.81       500\n",
      "weighted avg       0.82      0.81      0.81       500\n",
      "\n"
     ]
    }
   ],
   "source": [
    "# Creating Multinomial Naive Bayes Model\n",
    "MNB_model = MultinomialNB()\n",
    "MNB_model.fit(train_X,train_y)  \n",
    "y_pred = MNB_model.predict(test_X)\n",
    "\n",
    "# Checking Accuracy\n",
    "print(f\"Model accuracy : \\n{accuracy_score(test_y, y_pred)}\")\n",
    "\n",
    "# Classification Report\n",
    "print(\"MutinomialNB model: \\n\",classification_report(test_y, y_pred))"
   ]
  },
  {
   "cell_type": "code",
   "execution_count": 18,
   "metadata": {},
   "outputs": [
    {
     "data": {
      "text/plain": [
       "<matplotlib.axes._subplots.AxesSubplot at 0x27261fa13c8>"
      ]
     },
     "execution_count": 18,
     "metadata": {},
     "output_type": "execute_result"
    },
    {
     "data": {
      "image/png": "[encoded data removed]",
      "text/plain": [
       "<Figure size 432x288 with 2 Axes>"
      ]
     },
     "metadata": {
      "needs_background": "light"
     },
     "output_type": "display_data"
    }
   ],
   "source": [
    "#Ploting Confusion Matrix\n",
    "matrix1 = confusion_matrix(test_y, y_pred)\n",
    "sns.heatmap(confusion_matrix(test_y, y_pred),annot=True,fmt=\"g\")"
   ]
  },
  {
   "cell_type": "code",
   "execution_count": null,
   "metadata": {},
   "outputs": [],
   "source": []
  }
 ],
 "metadata": {
  "kernelspec": {
   "display_name": "Python 3",
   "language": "python",
   "name": "python3"
  },
  "language_info": {
   "codemirror_mode": {
    "name": "ipython",
    "version": 3
   },
   "file_extension": ".py",
   "mimetype": "text/x-python",
   "name": "python",
   "nbconvert_exporter": "python",
   "pygments_lexer": "ipython3",
   "version": "3.7.6"
  }
 },
 "nbformat": 4,
 "nbformat_minor": 5
}
